{
 "cells": [
  {
   "cell_type": "code",
   "execution_count": 33,
   "metadata": {},
   "outputs": [
    {
     "name": "stderr",
     "output_type": "stream",
     "text": [
      "[nltk_data] Downloading package punkt to\n",
      "[nltk_data]     /Users/samdisorbo/nltk_data...\n",
      "[nltk_data]   Package punkt is already up-to-date!\n"
     ]
    }
   ],
   "source": [
    "import pdfplumber\n",
    "import csv\n",
    "import nltk\n",
    "nltk.download('punkt')\n",
    "\n",
    "# USE THIS FUNCTION TO EXTRACT SENTENCES FROM A PDF AND SAVE THEM TO A CSV FILE\n",
    "def extract_sentences_to_csv(pdf_path, csv_path, start_page=0, end_page=None):\n",
    "    with pdfplumber.open(pdf_path) as pdf:\n",
    "        total_pages = len(pdf.pages)\n",
    "        end_page = end_page or total_pages\n",
    "\n",
    "        with open(csv_path, mode='a', newline='', encoding='utf-8') as csvfile:\n",
    "            csv_writer = csv.writer(csvfile)\n",
    "\n",
    "            for page_number in range(start_page, min(end_page, total_pages)):\n",
    "                page = pdf.pages[page_number]\n",
    "                text = page.extract_text()\n",
    "                if text:\n",
    "                    # Tokenizing text into sentences\n",
    "                    sentences = nltk.sent_tokenize(text)\n",
    "                    # Writing each sentence as a new row in the CSV\n",
    "                    for sentence in sentences:\n",
    "                        csv_writer.writerow([sentence.strip()])\n"
   ]
  },
  {
   "cell_type": "code",
   "execution_count": 34,
   "metadata": {},
   "outputs": [],
   "source": [
    "#use the function above\n",
    "extract_sentences_to_csv('demos.pdf', 'demos.csv')"
   ]
  },
  {
   "cell_type": "code",
   "execution_count": 1,
   "metadata": {},
   "outputs": [],
   "source": [
    "#make the csv file a dataframe\n",
    "import pandas as pd\n",
    "df = pd.read_csv('demos.csv', header=None)"
   ]
  },
  {
   "cell_type": "code",
   "execution_count": 3,
   "metadata": {},
   "outputs": [],
   "source": [
    "#clean the text in each element of the paragraphs list. Turn the letters to lowercase, remove non-alphabetic characters, and remove extra whitespace. Additionally tokenize all of the words. \n",
    "import nltk\n",
    "from nltk.tokenize import word_tokenize\n",
    "from nltk.corpus import stopwords\n",
    "from nltk.stem import WordNetLemmatizer\n",
    "import string\n",
    "import re\n",
    "\n",
    "#get words\n",
    "from nltk.corpus import words\n",
    "\n",
    "#cleaning function\n",
    "def clean_paragraph(paragraph):\n",
    "\n",
    "\n",
    "    #remove roman numerals\n",
    "    paragraph = re.sub(r'\\b(?=[MDCLXVI]+\\b)M{0,3}(CM|CD|D?C{0,3})(XC|XL|L?X{0,3})(IX|IV|V?I{0,3})\\b', '', paragraph)\n",
    "    \n",
    "    # Make all text lowercase\n",
    "    paragraph = paragraph.lower()\n",
    "    \n",
    "    # Remove non-alphabetic characters\n",
    "   # paragraph = re.sub(r'[^a-zA-Z]', ' ', paragraph)\n",
    "\n",
    "    # Tokenize the paragraph\n",
    "    paragraph = word_tokenize(paragraph)\n",
    "    \n",
    "    # Remove stopwords\n",
    "   # paragraph = [word for word in paragraph if word not in stopwords.words(\"english\")]\n",
    "\n",
    "    #remove non english words\n",
    "   # paragraph = [word for word in paragraph if word in words.words()]\n",
    "    \n",
    "    # Remove punctuation\n",
    "   # paragraph = [word for word in paragraph if word not in string.punctuation]\n",
    "    \n",
    "    # Lemmatize words\n",
    "    lemmatizer = WordNetLemmatizer()\n",
    "    paragraph = [lemmatizer.lemmatize(word) for word in paragraph]\n",
    "    \n",
    "    # Join words back into a paragraph\n",
    "    paragraph = \" \".join(paragraph)\n",
    "    \n",
    "    return paragraph\n",
    "\n"
   ]
  },
  {
   "cell_type": "code",
   "execution_count": 4,
   "metadata": {},
   "outputs": [],
   "source": [
    "\n",
    "#remove the phrases \"the orations of demosthenes\" and \"the first philippic\" from the dataframe\n",
    "df = df[df[0] != 'the orations of demosthenes']\n",
    "df = df[df[0] != 'the first philippic']\n",
    "\n",
    "\n",
    "#remove one character words \n",
    "#df = df[df[0].str.split().str.len().gt(1)]\n",
    "\n",
    "\n",
    "\n",
    "# Apply the clean_paragraph function to the column in df\n",
    "df[0] = df[0].apply(clean_paragraph)\n",
    "#remove rows where the paragraph is less than 10 words\n",
    "df = df[df[0].str.split().str.len().gt(5)]\n",
    "\n",
    "\n",
    "#remove one character words \n",
    "#df = df[df[0].str.split().str.len().gt(1)]\n",
    "\n",
    "\n",
    "#remove the first 700 rows\n",
    "df = df.iloc[700:]\n",
    "\n",
    "#rename the column with the sentences to 'text'\n",
    "df = df.rename(columns={0: 'text'})"
   ]
  },
  {
   "cell_type": "code",
   "execution_count": 128,
   "metadata": {},
   "outputs": [],
   "source": [
    "corpus = [word.split() for word in df['text']]\n",
    "\n",
    "#train a word2vec model on the text in the df sentence column\n",
    "from gensim.models import Word2Vec\n",
    "model = Word2Vec(corpus, vector_size=300, window=10, min_count=5, epochs=150, workers=4)\n",
    "\n",
    "#save the model\n",
    "model.save('demos.model')\n",
    "\n",
    "#load the model\n",
    "from gensim.models import Word2Vec\n",
    "model = Word2Vec.load('demos.model')\n"
   ]
  },
  {
   "cell_type": "code",
   "execution_count": 135,
   "metadata": {},
   "outputs": [
    {
     "data": {
      "text/plain": [
       "[('storm', 0.22965008020401),\n",
       " ('aggression', 0.22426503896713257),\n",
       " ('attempting', 0.21382057666778564),\n",
       " ('surely', 0.2056763619184494),\n",
       " ('mount', 0.20268258452415466),\n",
       " ('mountain', 0.1963820904493332),\n",
       " ('destroy', 0.1940629482269287),\n",
       " ('persuaded', 0.1903166025876999),\n",
       " ('prevail', 0.18888278305530548),\n",
       " ('longer', 0.1868620067834854)]"
      ]
     },
     "execution_count": 135,
     "metadata": {},
     "output_type": "execute_result"
    }
   ],
   "source": [
    "\n",
    "#print the most similar word to athens\n",
    "(model.wv.most_similar('war'))"
   ]
  },
  {
   "cell_type": "code",
   "execution_count": 149,
   "metadata": {},
   "outputs": [],
   "source": [
    "#import spacy and make the cols\n",
    "import spacy\n",
    "nlp = spacy.load('en_core_web_sm')\n",
    "\n",
    "#make the columns\n",
    "df['subject'] = ''\n",
    "df['action'] = ''\n",
    "df['object'] = ''\n",
    "\n",
    "\n",
    "#check each sentence for the subject, action, and object\n",
    "for i in range(len(df)):\n",
    "    doc = nlp(df['text'].iloc[i])\n",
    "    for token in doc:\n",
    "        if token.dep_ == 'nsubj':\n",
    "            df['subject'].iloc[i] = token.text\n",
    "        if token.dep_ == 'ROOT':\n",
    "            df['action'].iloc[i] = token.text\n",
    "        if token.dep_ == 'dobj':\n",
    "            df['object'].iloc[i] = token.text\n"
   ]
  },
  {
   "cell_type": "code",
   "execution_count": 152,
   "metadata": {},
   "outputs": [],
   "source": [
    "#split the data into test and training 15% test and save thenm as csv files\n",
    "from sklearn.model_selection import train_test_split\n",
    "\n",
    "#remove 1 letter words from the text column\n",
    "df = df[df['text'].str.split().str.len().gt(1)]\n",
    "\n",
    "train, test = train_test_split(df, test_size=0.15)\n",
    "\n",
    "train.to_csv('train.csv', index=False)\n",
    "test.to_csv('test.csv', index=False)"
   ]
  }
 ],
 "metadata": {
  "kernelspec": {
   "display_name": "venv445",
   "language": "python",
   "name": "python3"
  },
  "language_info": {
   "codemirror_mode": {
    "name": "ipython",
    "version": 3
   },
   "file_extension": ".py",
   "mimetype": "text/x-python",
   "name": "python",
   "nbconvert_exporter": "python",
   "pygments_lexer": "ipython3",
   "version": "3.11.5"
  }
 },
 "nbformat": 4,
 "nbformat_minor": 2
}
